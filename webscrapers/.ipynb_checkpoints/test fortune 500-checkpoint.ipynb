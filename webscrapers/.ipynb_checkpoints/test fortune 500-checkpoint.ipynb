{
 "cells": [
  {
   "cell_type": "code",
   "execution_count": 1,
   "metadata": {},
   "outputs": [],
   "source": [
    "import json"
   ]
  },
  {
   "cell_type": "code",
   "execution_count": 6,
   "metadata": {},
   "outputs": [],
   "source": [
    "# Opening JSON file \n",
    "f = open('fortune500.json',) \n",
    "\n",
    "data = json.load(f) \n",
    " \n",
    "f.close() "
   ]
  },
  {
   "cell_type": "code",
   "execution_count": 11,
   "metadata": {},
   "outputs": [
    {
     "data": {
      "text/plain": [
       "{'url': 'https://www.aep.com/terms/',\n",
       " 'text': 'Skip to main content We\\'re Here for You We\\'re Here for You American Electric Power is committed to the health and safety of our customers, communities and employees as we closely monitor the COVID-19 pandemic. Learn more × Investors Events & Presentations Filings & Reports Stock & Dividends Governance Regulatory Fixed Income ESG Email Alerts News News Releases Featured Stories COVID-19 News Alerts Regional News Media Contacts Careers Our Positions Benefits Culture Diversity Students About Us Our Story Businesses Leadership AEP Facts AEP Websites Community Hunger & Housing Education Recreation & Well Being Giving Back Community Reports Contact × Home Investors News Careers About Us Community Contact INVESTORS Investors Overview Events & Presentations Filings & Reports Stock & Dividends Governance Regulatory Fixed Income ESG Email Alerts FILINGS & REPORTS Filings & Reports Overview SEC Filings FERC Filings Printed Materials GOVERNANCE Governance Overview Board of Directors Facts About Our Board Committees Lobbying Efforts NEWS News Overview News Releases Featured Stories COVID-19 News Alerts Regional News Media Contacts COVID-19 COVID-19 Overview Business Assistance CAREERS Careers Overview Our Positions Benefits Culture Diversity Students ABOUT US About Us Overview Our Story Businesses Leadership AEP Facts AEP Websites OUR STORY Our Story Overview Clean Energy History Awards Advertising BUSINESSES Businesses Overview Transmission Generation Operating Companies AEP Energy AEP Energy Partners AEP OnSite Partners AEP Renewables TRANSMISSION Transmission Overview Investing in Transmission Building for Tomorrow Respecting the Environment Customer Experience COMMUNITY Community Overview Hunger & Housing Education Recreation & Well Being Giving Back Community Reports COMMUNITY REPORTS Community Reports Overview Meeting Basic Needs Caring for Communities Nurturing Brighter Futures Protecting the Environment Operating Company Reports OPERATING COMPANY REPORTS Operating Company Reports Overview AEP Ohio AEP Texas Appalachian Power Indiana Michigan Power Kentucky Power PSO SWEPCO CONTACT Contact Overview Investors Media Relations Careers BUSINESS TO BUSINESS Business to Business Overview Suppliers Accounts Payable EDI RFP Coal Combustion Products Memorandum of Insurance ACCOUNTS PAYABLE Accounts Payable Overview Accelerated Payment Program Invoices Tax ID Direct Pay FAQs COAL COMBUSTION PRODUCTS Coal Combustion Products Overview Coal Ash Fly Ash Bottom Ash / Boiler Slag RECREATION Recreation Overview Maps Recreational Areas Hydro Plant Levels & Flows FalconCam RECREATIONAL AREAS Recreational Areas Overview ReCreation Land The Wilds Conesville Coal Lands Poston Plant Lands Southern Ohio Recreation Area Fairbanks Landing Smith Mountain Lake HYDRO PLANT LEVELS & FLOWS Hydro Plant Levels & Flows Overview Pepper\\'s Ferry Whitethorne McCoy Falls Eggleston Pembroke Narrows Glen Lyn SEARCH Search Overview Advanced Search Site Map Go back T ERMS & C ONDITIONS Terms & Conditions AEP - Legal Notice The content of this site, including but not limited to the text and images herein and their arrangement, is the property of American Electric Power Company, Inc., (AEP). AEP hereby authorizes you to copy and display the content herein, but for your personal use only. Any copy you make must include this copyright notice: Copyright 1996-2020 by American Electric Power Company, Inc., all rights reserved. If attribution to AEP is included, limited quotations from the content are hereby permitted. You may not copy or display for redistribution to third parties for commercial purposes any portion of the content without the prior written permission of AEP. No Implied Licenses Nothing contained herein shall be construed as conferring by implication, estoppel, or otherwise any license or right under any patent, trademark, copyright (except as expressly provided above), or proprietary rights of AEP or of any third party. The Content AEP MAKES NO REPRESENTATIONS ABOUT THE SUITABILITY OF THE CONTENT OF THIS SITE FOR ANY PURPOSE. ALL CONTENT IS PROVIDED \"AS IS\" WITHOUT ANY WARRANTY OF ANY KIND. AEP HEREBY DISCLAIMS ALL WARRANTIES WITH REGARD TO THE CONTENT, INCLUDING BUT NOT LIMITED TO ALL IMPLIED WARRANTIES OF MERCHANTABILITY, FITNESS FOR A PARTICULAR PURPOSE, TITLE, AND NON-INFRINGEMENT. IN NO EVENT SHALL AEP OR ANY OF ITS AFFILIATES BE LIABLE FOR ANY SPECIAL, INDIRECT, EXEMPLARY, OR CONSEQUENTIAL DAMAGES OR ANY DAMAGES WHATSOEVER, INCLUDING BUT NOT LIMITED TO LOSS OF USE, DATA, OR PROFITS, WITHOUT REGARD TO THE FORM OF ANY ACTION, INCLUDING BUT NOT LIMITED TO CONTRACT, NEGLIGENCE, OR OTHER TORTIOUS ACTIONS, ARISING OUT OF OR IN CONNECTION WITH THE USE, COPYING, OR DISPLAY OF THE CONTENT ALTHOUGH AEP BELIEVES THE CONTENT TO BE ACCURATE, COMPLETE, AND CURRENT, AEP MAKES NO WARRANTY AS TO THE ACCURACY, COMPLETENESS OR CURRENCY OF THE CONTENT. IT IS YOUR RESPONSIBILITY TO VERIFY ANY INFORMATION BEFORE RELYING ON IT. THE CONTENT OF THIS SITE MAY INCLUDE TECHNICAL INACCURACIES OR TYPOGRAPHICAL ERRORS. FROM TIME TO TIME CHANGES ARE MADE TO THE CONTENT HEREIN. AEP MAY MAKE CHANGES IN THE PRODUCTS AND/OR THE SERVICES DESCRIBED HEREIN AT ANY TIME. Links to Other Sites Some of the sites listed as links herein are not under the control of AEP. Accordingly, AEP makes no representations whatsoever concerning the content of those sites. The fact that AEP has provided a link to a site is NOT an endorsement, authorization, sponsorship, or affiliation by AEP with respect to such site, its owners, or its providers. AEP is providing these links only as a convenience to you. There are risks in using any information, software, or products found on the Internet; and AEP cautions you to make sure that you completely understand these risks before retrieving, using, relying upon, or purchasing anything via the Internet. Information Provided by You Any information provided by you to AEP, including but not limited to feedback, data, questions, comments, suggestions, or the like, shall be deemed to be non-confidential; AEP shall have no obligation of any kind with respect to such information and shall be free to reproduce, use, disclose, and distribute the information to others without limitation. Additionally, AEP shall be free to use any ideas, concepts, know-how or techniques contained in such information for any purpose whatsoever, including but not limited to developing, manufacturing, and marketing products incorporating such information. Trademarks \"American Electric Power\", \"AEP\", \"gridSMART\", \"AEP Energy\", \"AEP Retail Energy\", \"America\\'s Energy Partner\" and the American Electric Power logo are registered trademarks of American Electric Power Company, Inc. B2B & Suppliers Recreation Environment Safety & Health Use of this site constitutes acceptance of the AEP Terms and Conditions. © 1996-2020 American Electric Power Company, Inc. All Rights Reserved. REQUIRED INTERNET POSTINGS | SITEMAP'}"
      ]
     },
     "execution_count": 11,
     "metadata": {},
     "output_type": "execute_result"
    }
   ],
   "source": [
    "data[100]"
   ]
  },
  {
   "cell_type": "code",
   "execution_count": null,
   "metadata": {},
   "outputs": [],
   "source": []
  }
 ],
 "metadata": {
  "kernelspec": {
   "display_name": "Python 3",
   "language": "python",
   "name": "python3"
  },
  "language_info": {
   "codemirror_mode": {
    "name": "ipython",
    "version": 3
   },
   "file_extension": ".py",
   "mimetype": "text/x-python",
   "name": "python",
   "nbconvert_exporter": "python",
   "pygments_lexer": "ipython3",
   "version": "3.7.3"
  }
 },
 "nbformat": 4,
 "nbformat_minor": 2
}
